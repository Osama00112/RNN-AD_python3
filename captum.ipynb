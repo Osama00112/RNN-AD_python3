{
 "cells": [
  {
   "cell_type": "code",
   "execution_count": 1,
   "metadata": {},
   "outputs": [],
   "source": [
    "import torch\n",
    "import torch.nn as nn\n",
    "import torch.nn.functional as F\n",
    "import importlib\n",
    "\n",
    "import cbig.osama2024.dataloader as dataloader\n",
    "import cbig.osama2024.model as model\n",
    "importlib.reload(model)\n",
    "\n",
    "#from cbig.osama2024.model import osama\n",
    "\n",
    "import cbig.osama2024.misc as misc\n",
    "from cbig.osama2024.model import MODEL_DICT\n",
    "\n",
    "\n",
    "# load data\n",
    "import pickle\n",
    "import pandas as pd\n",
    "import numpy as np\n",
    "from sklearn.model_selection import train_test_split  "
   ]
  },
  {
   "cell_type": "markdown",
   "metadata": {},
   "source": [
    "## ToySoftmax model"
   ]
  },
  {
   "cell_type": "code",
   "execution_count": 2,
   "metadata": {},
   "outputs": [],
   "source": [
    "\n",
    "\n",
    "class ToySoftmaxModel(nn.Module):\n",
    "    r\"\"\"\n",
    "    Model architecture from:\n",
    "\n",
    "    https://adventuresinmachinelearning.com/pytorch-tutorial-deep-learning/\n",
    "    \"\"\"\n",
    "\n",
    "    def __init__(self, num_in, num_hidden, num_out):\n",
    "        super().__init__()\n",
    "        self.num_in = num_in\n",
    "        self.num_hidden = num_hidden\n",
    "        self.num_out = num_out\n",
    "        self.lin1 = nn.Linear(num_in, num_hidden)\n",
    "        self.lin2 = nn.Linear(num_hidden, num_hidden)\n",
    "        self.lin3 = nn.Linear(num_hidden, num_out)\n",
    "        self.softmax = nn.Softmax(dim=1)\n",
    "\n",
    "    def forward(self, input):\n",
    "        lin1 = F.relu(self.lin1(input))\n",
    "        lin2 = F.relu(self.lin2(lin1))\n",
    "        lin3 = self.lin3(lin2)\n",
    "        return self.softmax(lin3)"
   ]
  },
  {
   "cell_type": "code",
   "execution_count": null,
   "metadata": {},
   "outputs": [],
   "source": [
    "from captum.attr import IntegratedGradients\n",
    "num_in = 40\n",
    "input = torch.arange(0.0, num_in * 1.0, requires_grad=True).unsqueeze(0)\n",
    "\n",
    "# 10-class classification model\n",
    "model = ToySoftmaxModel(num_in, 20, 10)\n",
    "\n",
    "# attribution score will be computed with respect to target class\n",
    "target_class_index = 5\n",
    "\n",
    "# applying integrated gradients on the SoftmaxModel and input data point\n",
    "ig = IntegratedGradients(model)\n",
    "attributions, approximation_error = ig.attribute(input, target=target_class_index,\n",
    "                                    return_convergence_delta=True)\n",
    "\n",
    "# The input and returned corresponding attribution have the\n",
    "\n",
    "# same shape and dimensionality.\n",
    "\n",
    "# output\n",
    "\n",
    "# ...................\n",
    "\n",
    "# attributions: (tensor([[ 0.0000,  0.0014,  0.0012,  0.0019,  0.0034,  0.0020, -0.0041,  \n",
    "#           0.0085, -0.0016,  0.0111, -0.0114, -0.0053, -0.0054, -0.0095,  0.0097, -0.0170,\n",
    "#           0.0067,  0.0036, -0.0296,  0.0244,  0.0091, -0.0287,  0.0270,  0.0073,\n",
    "#          -0.0287,  0.0008, -0.0150, -0.0188, -0.0328, -0.0080, -0.0337,  0.0422,\n",
    "#           0.0450,  0.0423, -0.0238,  0.0216, -0.0601,  0.0114,  0.0418, -0.0522]],\n",
    "#        grad_fn=<MulBackward0>),)\n",
    "\n",
    "# approximation_error (aka delta): 0.00013834238052368164\n",
    "\n",
    "# assert attributions.shape == input.shape"
   ]
  },
  {
   "cell_type": "code",
   "execution_count": null,
   "metadata": {},
   "outputs": [],
   "source": [
    "print(attributions)\n",
    "print(approximation_error)\n",
    "assert attributions.shape == input.shape"
   ]
  }
 ],
 "metadata": {
  "kernelspec": {
   "display_name": "venv",
   "language": "python",
   "name": "python3"
  },
  "language_info": {
   "codemirror_mode": {
    "name": "ipython",
    "version": 3
   },
   "file_extension": ".py",
   "mimetype": "text/x-python",
   "name": "python",
   "nbconvert_exporter": "python",
   "pygments_lexer": "ipython3",
   "version": "3.11.4"
  }
 },
 "nbformat": 4,
 "nbformat_minor": 2
}
